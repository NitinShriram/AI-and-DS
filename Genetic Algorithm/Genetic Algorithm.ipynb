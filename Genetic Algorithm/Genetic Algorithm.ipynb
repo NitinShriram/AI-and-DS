{
 "cells": [
  {
   "cell_type": "code",
   "execution_count": 1,
   "id": "fa8490e9",
   "metadata": {},
   "outputs": [
    {
     "name": "stdout",
     "output_type": "stream",
     "text": [
      "\n",
      " most evolved state  17581463 \n",
      " attacks  1 \n",
      " generation 1000\n"
     ]
    }
   ],
   "source": [
    "import random\n",
    "\n",
    "def mutate(board1,board2):\n",
    "    b1=list(board1)\n",
    "    b2=list(board2)\n",
    "    x=random.randint(0,7)\n",
    "    b1[x],b2[x]=b2[x],b1[x]\n",
    "    y=random.randint(0,7)\n",
    "    b1[y]=str(int(y)+1)\n",
    "    return (''.join(b1),''.join(b2))\n",
    "\n",
    "def crossover(board1,board2):\n",
    "    b1=list(board1)\n",
    "    b2=list(board2)\n",
    "    x=random.randint(1,7)\n",
    "    b1[0:x],b2[0:x]=b2[0:x],b1[0:x]\n",
    "    return (''.join(b1),''.join(b2))\n",
    "\n",
    "def fitness(board):\n",
    "    attacks=0\n",
    "    for i in range(8):\n",
    "        for j in range(i+1,8):\n",
    "            if board[i]==board[j] or abs(int(board[i])-int(board[j]))==j-i:\n",
    "                attacks+=1\n",
    "    return attacks\n",
    "\n",
    "def geneticalgo(initilapopulation,generations):\n",
    "    pq=[]\n",
    "    i=0\n",
    "    pq.append((fitness(initilapopulation[0]),initilapopulation[0]))\n",
    "    pq.append((fitness(initilapopulation[1]),initilapopulation[1]))\n",
    "    while i<generations:\n",
    "        f1,b1=pq.pop(0)\n",
    "        f2,b2=pq.pop(0)\n",
    "        pq.clear()\n",
    "\n",
    "        if f1==0:\n",
    "            print('\\n goal state ',b1,'\\n generation ',i+1)\n",
    "            return\n",
    "        elif f2==0:\n",
    "            print('\\n goal state ',b2,'\\n generation ',i+1)\n",
    "            return\n",
    "        x1,x2=crossover(b1,b2)\n",
    "        x3,x4=crossover(b2,b1)\n",
    "\n",
    "        newpopulation = [(x1,x2),(x3,x4),mutate(x1,x2),mutate(x2,x1)]\n",
    "\n",
    "        for child in newpopulation:\n",
    "            pq.append((fitness(child[0]),child[0]))\n",
    "            pq.append((fitness(child[1]),child[1]))\n",
    "        pq.append((f1,b1))\n",
    "        pq.append((f2,b2))\n",
    "\n",
    "        pq.sort(key=lambda x:x[0])\n",
    "        i+=1\n",
    "\n",
    "    print('\\n most evolved state ',pq[0][1],'\\n attacks ',pq[0][0],'\\n generation',i)\n",
    "    \n",
    "\n",
    "geneticalgo([\"17581234\", \"56782463\"],1000)"
   ]
  },
  {
   "cell_type": "code",
   "execution_count": null,
   "id": "df6ff316",
   "metadata": {},
   "outputs": [],
   "source": []
  }
 ],
 "metadata": {
  "kernelspec": {
   "display_name": "Python 3 (ipykernel)",
   "language": "python",
   "name": "python3"
  },
  "language_info": {
   "codemirror_mode": {
    "name": "ipython",
    "version": 3
   },
   "file_extension": ".py",
   "mimetype": "text/x-python",
   "name": "python",
   "nbconvert_exporter": "python",
   "pygments_lexer": "ipython3",
   "version": "3.11.5"
  }
 },
 "nbformat": 4,
 "nbformat_minor": 5
}
