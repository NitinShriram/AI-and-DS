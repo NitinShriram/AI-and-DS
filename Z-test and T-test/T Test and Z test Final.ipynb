{
 "cells": [
  {
   "cell_type": "markdown",
   "id": "bddbfdc7",
   "metadata": {},
   "source": [
    "# T Test"
   ]
  },
  {
   "cell_type": "code",
   "execution_count": 1,
   "id": "ff62a2ea",
   "metadata": {},
   "outputs": [],
   "source": [
    "import numpy as np\n",
    "import pandas as pd\n",
    "from scipy.stats import t\n",
    "population=[40,55,23,12,51,43,65,75,22,20,25,24,21,61,67,71,24,11,55,35,25,80,90,15,31,33,51,62,91,21]"
   ]
  },
  {
   "cell_type": "code",
   "execution_count": 2,
   "id": "0a723385",
   "metadata": {},
   "outputs": [],
   "source": [
    "s1=[]\n",
    "s2=[]\n",
    "for i in population:\n",
    "    if i%5 ==0:\n",
    "        s1.append(i)\n",
    "    if i%10-1==0 or i%10-2==0:\n",
    "        s2.append(i)"
   ]
  },
  {
   "cell_type": "code",
   "execution_count": 3,
   "id": "b2eedbb0",
   "metadata": {},
   "outputs": [
    {
     "data": {
      "text/plain": [
       "[40, 55, 65, 75, 20, 25, 55, 35, 25, 80, 90, 15]"
      ]
     },
     "execution_count": 3,
     "metadata": {},
     "output_type": "execute_result"
    }
   ],
   "source": [
    "s1"
   ]
  },
  {
   "cell_type": "code",
   "execution_count": 4,
   "id": "8a6f39a0",
   "metadata": {},
   "outputs": [
    {
     "data": {
      "text/plain": [
       "[12, 51, 22, 21, 61, 71, 11, 31, 51, 62, 91, 21]"
      ]
     },
     "execution_count": 4,
     "metadata": {},
     "output_type": "execute_result"
    }
   ],
   "source": [
    "s2"
   ]
  },
  {
   "cell_type": "code",
   "execution_count": 5,
   "id": "0c5c3bb2",
   "metadata": {},
   "outputs": [],
   "source": [
    "def tval(s,pop):\n",
    "    mp = np.mean(pop)\n",
    "    m = np.mean(s)\n",
    "    sd = np.std(s)\n",
    "    n = len(s)\n",
    "    tva = (m-mp)*(n**0.5)/sd\n",
    "    d = n-1\n",
    "    pv = round(1 - t.cdf(tva,d),2)\n",
    "    return pv"
   ]
  },
  {
   "cell_type": "code",
   "execution_count": 6,
   "id": "4fd81119",
   "metadata": {},
   "outputs": [
    {
     "name": "stdout",
     "output_type": "stream",
     "text": [
      "Accept the null hypothesis; there is no significant difference between the sample mean and the hypothesized population mean.\n",
      "Accept the null hypothesis; there is no significant difference between the sample mean and the hypothesized population mean.\n"
     ]
    }
   ],
   "source": [
    "alpha = 0.05\n",
    "t_s1 = tval(s1,population)\n",
    "if t_s1<alpha:\n",
    "    print(\"Reject the null hypothesis; there is a significant difference between the sample mean and the hypothesized population mean.\")\n",
    "else:\n",
    "    print(\"Accept the null hypothesis; there is no significant difference between the sample mean and the hypothesized population mean.\")  \n",
    "\n",
    "t_s2 = tval(s2,population)\n",
    "if t_s2<alpha:\n",
    "    print(\"Reject the null hypothesis; there is a significant difference between the sample mean and the hypothesized population mean.\")\n",
    "else:\n",
    "    print(\"Accept the null hypothesis; there is no significant difference between the sample mean and the hypothesized population mean.\")  \n"
   ]
  },
  {
   "cell_type": "markdown",
   "id": "9c8d2f0d",
   "metadata": {},
   "source": [
    "# Z test"
   ]
  },
  {
   "cell_type": "code",
   "execution_count": 7,
   "id": "81ef87e2",
   "metadata": {},
   "outputs": [],
   "source": [
    "import pandas as pd\n",
    "import numpy as np\n",
    "from scipy.stats import norm"
   ]
  },
  {
   "cell_type": "code",
   "execution_count": 8,
   "id": "e12cd7fc",
   "metadata": {},
   "outputs": [],
   "source": [
    "df = pd.read_csv('marks.csv')"
   ]
  },
  {
   "cell_type": "code",
   "execution_count": 9,
   "id": "53f6c636",
   "metadata": {},
   "outputs": [],
   "source": [
    "marks = df['Marks'].to_numpy()"
   ]
  },
  {
   "cell_type": "code",
   "execution_count": 10,
   "id": "ae45e9bf",
   "metadata": {},
   "outputs": [],
   "source": [
    "s1=[]\n",
    "s2=[]\n",
    "s3=[]\n",
    "for i in range(len(marks)):\n",
    "    if i%3==0:\n",
    "        s1.append(marks[i])\n",
    "    if i%3==1:\n",
    "        s2.append(marks[i])\n",
    "    if i%3==2:\n",
    "        s3.append(marks[i])\n",
    "        "
   ]
  },
  {
   "cell_type": "code",
   "execution_count": 11,
   "id": "f5f5982b",
   "metadata": {},
   "outputs": [],
   "source": [
    "def ztest(s,marks):\n",
    "    mp = np.mean(marks)\n",
    "    m = np.mean(s)\n",
    "    sd = np.std(marks)\n",
    "    n = len(s)\n",
    "    zva = (m-mp)*(n**0.5)/sd\n",
    "    z = norm.sf(zva)\n",
    "    return z"
   ]
  },
  {
   "cell_type": "code",
   "execution_count": 12,
   "id": "ec64b393",
   "metadata": {},
   "outputs": [
    {
     "data": {
      "text/plain": [
       "0.14088824027717778"
      ]
     },
     "execution_count": 12,
     "metadata": {},
     "output_type": "execute_result"
    }
   ],
   "source": [
    "zs1 = ztest(s1,marks)\n",
    "zs1"
   ]
  },
  {
   "cell_type": "code",
   "execution_count": 13,
   "id": "3a67d433",
   "metadata": {},
   "outputs": [
    {
     "data": {
      "text/plain": [
       "0.9321392501733884"
      ]
     },
     "execution_count": 13,
     "metadata": {},
     "output_type": "execute_result"
    }
   ],
   "source": [
    "zs2 = ztest(s2,marks)\n",
    "zs2"
   ]
  },
  {
   "cell_type": "code",
   "execution_count": 14,
   "id": "74f6df9b",
   "metadata": {},
   "outputs": [
    {
     "data": {
      "text/plain": [
       "0.34480252136667155"
      ]
     },
     "execution_count": 14,
     "metadata": {},
     "output_type": "execute_result"
    }
   ],
   "source": [
    "zs3 = ztest(s3,marks)\n",
    "zs3"
   ]
  },
  {
   "cell_type": "code",
   "execution_count": null,
   "id": "a012d784",
   "metadata": {},
   "outputs": [],
   "source": []
  }
 ],
 "metadata": {
  "kernelspec": {
   "display_name": "Python 3 (ipykernel)",
   "language": "python",
   "name": "python3"
  },
  "language_info": {
   "codemirror_mode": {
    "name": "ipython",
    "version": 3
   },
   "file_extension": ".py",
   "mimetype": "text/x-python",
   "name": "python",
   "nbconvert_exporter": "python",
   "pygments_lexer": "ipython3",
   "version": "3.11.5"
  }
 },
 "nbformat": 4,
 "nbformat_minor": 5
}
