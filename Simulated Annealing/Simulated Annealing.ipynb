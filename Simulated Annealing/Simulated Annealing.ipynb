{
 "cells": [
  {
   "cell_type": "code",
   "execution_count": 11,
   "id": "34a5e6c5",
   "metadata": {},
   "outputs": [
    {
     "name": "stdout",
     "output_type": "stream",
     "text": [
      "\n",
      " best solution [251.38813694121015, 299.24450324668845]\n",
      "\n",
      " best cost  152743.26811812996\n"
     ]
    }
   ],
   "source": [
    "import math\n",
    "import matplotlib.pyplot as plt\n",
    "import random\n",
    "\n",
    "def fcost(sol):\n",
    "    return sum([i**2 for i in sol])\n",
    "\n",
    "def succesors(sol,step=1.0):\n",
    "    succesor=[x+random.uniform(-step,step) for x in sol]\n",
    "    return succesor\n",
    "\n",
    "def simulated_annealing(initial_sol,initial_temp,alpha,iters):\n",
    "    curr_sol = initial_sol\n",
    "    sol = curr_sol\n",
    "    cost = fcost(curr_sol)\n",
    "    mincost = cost\n",
    "    temp = initial_temp\n",
    "\n",
    "    for iterations in range(iters):\n",
    "        neighbour=succesors(curr_sol)\n",
    "        ncost=fcost(neighbour)\n",
    "\n",
    "        costdiff = ncost-cost\n",
    "\n",
    "        if costdiff < 0 or random.random() < math.exp(-costdiff/temp):\n",
    "            curr_sol = neighbour\n",
    "            cost = ncost\n",
    "\n",
    "            if cost < mincost:\n",
    "                sol = curr_sol\n",
    "                mincost = cost\n",
    "        temp *=alpha\n",
    "    return sol,mincost\n",
    "\n",
    "initial_sol=[300.0,400.0]\n",
    "initial_temp=1000\n",
    "alpha=0.95\n",
    "iters=500\n",
    "x=[]\n",
    "y=[]\n",
    "for i in range(iters):\n",
    "    bestsol,bestcost=simulated_annealing(initial_sol,initial_temp,alpha,iters)\n",
    "#     x.append(bestsol[0])\n",
    "#     y.append(bestsol[1])\n",
    "\n",
    "# plt.scatter(x,y)\n",
    "print('\\n best solution',bestsol)\n",
    "print('\\n best cost ',bestcost)\n",
    "# plt.scatter(300,400,c=\"red\")\n",
    "# plt.scatter(bestsol[0],bestsol[1],c=\"yellow\")\n",
    "# plt.show()"
   ]
  },
  {
   "cell_type": "code",
   "execution_count": null,
   "id": "a273d9c7",
   "metadata": {},
   "outputs": [],
   "source": []
  },
  {
   "cell_type": "code",
   "execution_count": 8,
   "id": "c626c206",
   "metadata": {},
   "outputs": [
    {
     "name": "stdout",
     "output_type": "stream",
     "text": [
      "[235.9662664590994, 311.38790677768725]\n",
      "152642.50739403634\n"
     ]
    }
   ],
   "source": [
    "import random\n",
    "import math\n",
    "\n",
    "def fcost(sol):\n",
    "    return sum([x**2 for x in sol])\n",
    "\n",
    "def suc(sol,step=1.0):\n",
    "    suc = [x+random.uniform(-step,step) for x in sol]\n",
    "    return suc\n",
    "\n",
    "def simulated_annealing(initial_sol,initial_temp,alpha,iters):\n",
    "    curr_sol = initial_sol\n",
    "    sol = curr_sol\n",
    "    cost = fcost(curr_sol)\n",
    "    mincost = cost\n",
    "    temp = initial_temp\n",
    "    \n",
    "    for i in range(iters):\n",
    "        neighbour = suc(curr_sol)\n",
    "        ncost = fcost(neighbour)\n",
    "        diff = ncost - cost\n",
    "        \n",
    "        if diff<0 or random.random()<math.exp(-diff/temp):\n",
    "            cost = ncost\n",
    "            curr_sol = neighbour\n",
    "            \n",
    "            if cost<mincost:\n",
    "                mincost = cost\n",
    "                sol = curr_sol\n",
    "        temp*=alpha\n",
    "        \n",
    "    return sol,mincost\n",
    "\n",
    "initial_sol=[300.0,400.0]\n",
    "initial_temp=1000\n",
    "alpha=0.95\n",
    "iters=500\n",
    "x=[]\n",
    "y=[]\n",
    "for i in range(iters):\n",
    "    bestsol,bestcost=simulated_annealing(initial_sol,initial_temp,alpha,iters)\n",
    "    \n",
    "print(bestsol)\n",
    "print(bestcost)"
   ]
  },
  {
   "cell_type": "code",
   "execution_count": null,
   "id": "8b421e0a",
   "metadata": {},
   "outputs": [],
   "source": []
  }
 ],
 "metadata": {
  "kernelspec": {
   "display_name": "Python 3 (ipykernel)",
   "language": "python",
   "name": "python3"
  },
  "language_info": {
   "codemirror_mode": {
    "name": "ipython",
    "version": 3
   },
   "file_extension": ".py",
   "mimetype": "text/x-python",
   "name": "python",
   "nbconvert_exporter": "python",
   "pygments_lexer": "ipython3",
   "version": "3.11.5"
  }
 },
 "nbformat": 4,
 "nbformat_minor": 5
}
