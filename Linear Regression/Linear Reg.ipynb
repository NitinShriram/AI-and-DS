{
 "cells": [
  {
   "cell_type": "code",
   "execution_count": 1,
   "id": "3ba5fa35",
   "metadata": {},
   "outputs": [],
   "source": [
    "import pandas as pd\n",
    "import numpy as np"
   ]
  },
  {
   "cell_type": "code",
   "execution_count": 2,
   "id": "0e9b74fd",
   "metadata": {},
   "outputs": [
    {
     "data": {
      "text/html": [
       "<div>\n",
       "<style scoped>\n",
       "    .dataframe tbody tr th:only-of-type {\n",
       "        vertical-align: middle;\n",
       "    }\n",
       "\n",
       "    .dataframe tbody tr th {\n",
       "        vertical-align: top;\n",
       "    }\n",
       "\n",
       "    .dataframe thead th {\n",
       "        text-align: right;\n",
       "    }\n",
       "</style>\n",
       "<table border=\"1\" class=\"dataframe\">\n",
       "  <thead>\n",
       "    <tr style=\"text-align: right;\">\n",
       "      <th></th>\n",
       "      <th>Index</th>\n",
       "      <th>Height</th>\n",
       "      <th>Weight</th>\n",
       "    </tr>\n",
       "  </thead>\n",
       "  <tbody>\n",
       "    <tr>\n",
       "      <th>0</th>\n",
       "      <td>1</td>\n",
       "      <td>65.78331</td>\n",
       "      <td>112.9925</td>\n",
       "    </tr>\n",
       "    <tr>\n",
       "      <th>1</th>\n",
       "      <td>2</td>\n",
       "      <td>71.51521</td>\n",
       "      <td>136.4873</td>\n",
       "    </tr>\n",
       "    <tr>\n",
       "      <th>2</th>\n",
       "      <td>3</td>\n",
       "      <td>69.39874</td>\n",
       "      <td>153.0269</td>\n",
       "    </tr>\n",
       "    <tr>\n",
       "      <th>3</th>\n",
       "      <td>4</td>\n",
       "      <td>68.21660</td>\n",
       "      <td>142.3354</td>\n",
       "    </tr>\n",
       "    <tr>\n",
       "      <th>4</th>\n",
       "      <td>5</td>\n",
       "      <td>67.78781</td>\n",
       "      <td>144.2971</td>\n",
       "    </tr>\n",
       "  </tbody>\n",
       "</table>\n",
       "</div>"
      ],
      "text/plain": [
       "   Index    Height    Weight\n",
       "0      1  65.78331  112.9925\n",
       "1      2  71.51521  136.4873\n",
       "2      3  69.39874  153.0269\n",
       "3      4  68.21660  142.3354\n",
       "4      5  67.78781  144.2971"
      ]
     },
     "execution_count": 2,
     "metadata": {},
     "output_type": "execute_result"
    }
   ],
   "source": [
    "dp = pd.read_csv('Height_Weight.csv')\n",
    "dp.head()"
   ]
  },
  {
   "cell_type": "code",
   "execution_count": 3,
   "id": "46abefd0",
   "metadata": {},
   "outputs": [],
   "source": [
    "mh = dp['Height'].mean()\n",
    "mw = dp['Weight'].mean()\n",
    "# x_train = dp['Height'].to_numpy()\n",
    "# y_train = dp['Weight'].to_numpy()"
   ]
  },
  {
   "cell_type": "code",
   "execution_count": 4,
   "id": "c4bc8c9d",
   "metadata": {},
   "outputs": [
    {
     "data": {
      "text/plain": [
       "67.99311359679999"
      ]
     },
     "execution_count": 4,
     "metadata": {},
     "output_type": "execute_result"
    }
   ],
   "source": [
    "# xm = np.mean(x_train)\n",
    "# xm\n",
    "mh"
   ]
  },
  {
   "cell_type": "code",
   "execution_count": 5,
   "id": "0dd92d93",
   "metadata": {},
   "outputs": [
    {
     "data": {
      "text/plain": [
       "127.07942116080001"
      ]
     },
     "execution_count": 5,
     "metadata": {},
     "output_type": "execute_result"
    }
   ],
   "source": [
    "# ym = np.mean(y_train)\n",
    "# ym\n",
    "mw"
   ]
  },
  {
   "cell_type": "code",
   "execution_count": 6,
   "id": "33dec88f",
   "metadata": {},
   "outputs": [],
   "source": [
    "prod = 0\n",
    "mse = 0\n",
    "for i in range(len(dp['Height'])):\n",
    "    prod += ((dp['Height'][i]-mh)*(dp['Weight'][i]-mw))\n",
    "    mse += ((dp['Height'][i]-mh)**2)\n",
    "    \n",
    "# for i in range(len(x_train)) :\n",
    "#     prod += ((x_train[i]-xm)*(y_train[i]-ym))\n",
    "#     mse += ((x_train[i]-xm)**2)"
   ]
  },
  {
   "cell_type": "code",
   "execution_count": 7,
   "id": "c12c3110",
   "metadata": {},
   "outputs": [],
   "source": [
    "b1 = prod/mse\n",
    "b0 = mw - (b1*mh)"
   ]
  },
  {
   "cell_type": "code",
   "execution_count": 8,
   "id": "ebc3a8a9",
   "metadata": {},
   "outputs": [
    {
     "name": "stdout",
     "output_type": "stream",
     "text": [
      "3.0834764454030186 -82.57574306454445\n"
     ]
    }
   ],
   "source": [
    "print(b1,b0)"
   ]
  },
  {
   "cell_type": "code",
   "execution_count": 9,
   "id": "29e26dea",
   "metadata": {},
   "outputs": [],
   "source": [
    "def linearreg(x):\n",
    "    return (b1*x)+b0"
   ]
  },
  {
   "cell_type": "code",
   "execution_count": 10,
   "id": "deb4abe8",
   "metadata": {},
   "outputs": [
    {
     "data": {
      "text/plain": [
       "10.079516864371302"
      ]
     },
     "execution_count": 10,
     "metadata": {},
     "output_type": "execute_result"
    }
   ],
   "source": [
    "cost = 0\n",
    "for i in range(len(dp['Weight'])):\n",
    "    cost += ((linearreg(dp['Height'][i])-dp['Weight'][i])**2)\n",
    "cost = (cost/(len(dp['Height'])-2))**0.5\n",
    "cost"
   ]
  },
  {
   "cell_type": "code",
   "execution_count": 11,
   "id": "7c540a7e",
   "metadata": {},
   "outputs": [
    {
     "data": {
      "text/plain": [
       "122.47544055475628"
      ]
     },
     "execution_count": 11,
     "metadata": {},
     "output_type": "execute_result"
    }
   ],
   "source": [
    "linearreg(66.5)"
   ]
  },
  {
   "cell_type": "code",
   "execution_count": null,
   "id": "096709f9",
   "metadata": {},
   "outputs": [],
   "source": []
  }
 ],
 "metadata": {
  "kernelspec": {
   "display_name": "Python 3 (ipykernel)",
   "language": "python",
   "name": "python3"
  },
  "language_info": {
   "codemirror_mode": {
    "name": "ipython",
    "version": 3
   },
   "file_extension": ".py",
   "mimetype": "text/x-python",
   "name": "python",
   "nbconvert_exporter": "python",
   "pygments_lexer": "ipython3",
   "version": "3.11.5"
  }
 },
 "nbformat": 4,
 "nbformat_minor": 5
}
