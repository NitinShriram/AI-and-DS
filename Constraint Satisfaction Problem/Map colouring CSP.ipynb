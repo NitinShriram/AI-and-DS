{
 "cells": [
  {
   "cell_type": "code",
   "execution_count": 1,
   "id": "251a0e6e",
   "metadata": {},
   "outputs": [
    {
     "name": "stdout",
     "output_type": "stream",
     "text": [
      "p1  :  Red\n",
      "p2  :  Green\n",
      "p3  :  Red\n",
      "p4  :  Green\n",
      "p5  :  Blue\n",
      "p6  :  Red\n"
     ]
    }
   ],
   "source": [
    "def check(node,color,assign,graph):\n",
    "    for neighbour in graph[node]:\n",
    "        if assign[neighbour]==color:\n",
    "            return False\n",
    "    return True\n",
    "\n",
    "def getnode(assign):\n",
    "    for node in assign:\n",
    "        if assign[node]==-1:\n",
    "            return node\n",
    "\n",
    "def isgoal(assign):\n",
    "    for val in assign.values():\n",
    "        if val==-1:\n",
    "            return False\n",
    "    return True\n",
    "\n",
    "def rec_backtracking(assign,colors,graph):\n",
    "    if isgoal(assign):\n",
    "        return assign\n",
    "    \n",
    "    n = getnode(assign)\n",
    "    \n",
    "    for index,color in enumerate(colors):\n",
    "        if check(n,index,assign,graph):\n",
    "            assign[n]=index\n",
    "            res = rec_backtracking(assign,colors,graph)\n",
    "            if res:\n",
    "                return res\n",
    "            assign[n]=-1\n",
    "    return None\n",
    "\n",
    "graph = {\n",
    "    'p1':['p2','p5'],\n",
    "    'p2':['p1','p3','p5'],\n",
    "    'p3':['p2','p5','p4'],\n",
    "    'p4':['p3','p5','p6'],\n",
    "    'p5':['p1','p2','p3','p4','p6'],\n",
    "    'p6':['p4','p5'],\n",
    "}\n",
    "\n",
    "colors = [\"Red\", \"Green\", \"Blue\"]\n",
    "assign = {\n",
    "    'p1':-1,\n",
    "    'p2':-1,\n",
    "    'p3':-1,\n",
    "    'p4':-1,\n",
    "    'p5':-1,\n",
    "    'p6':-1,\n",
    "}\n",
    "\n",
    "sol = rec_backtracking(assign,colors,graph)\n",
    "for node in sol:\n",
    "    print(node,\" : \",colors[sol[node]])"
   ]
  },
  {
   "cell_type": "code",
   "execution_count": null,
   "id": "c398f34f",
   "metadata": {},
   "outputs": [],
   "source": []
  }
 ],
 "metadata": {
  "kernelspec": {
   "display_name": "Python 3 (ipykernel)",
   "language": "python",
   "name": "python3"
  },
  "language_info": {
   "codemirror_mode": {
    "name": "ipython",
    "version": 3
   },
   "file_extension": ".py",
   "mimetype": "text/x-python",
   "name": "python",
   "nbconvert_exporter": "python",
   "pygments_lexer": "ipython3",
   "version": "3.11.5"
  }
 },
 "nbformat": 4,
 "nbformat_minor": 5
}
